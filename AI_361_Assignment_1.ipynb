{
  "nbformat": 4,
  "nbformat_minor": 0,
  "metadata": {
    "colab": {
      "provenance": [],
      "authorship_tag": "ABX9TyNv/404B+4fnPw5XXF6K4dC",
      "include_colab_link": true
    },
    "kernelspec": {
      "name": "python3",
      "display_name": "Python 3"
    },
    "language_info": {
      "name": "python"
    }
  },
  "cells": [
    {
      "cell_type": "markdown",
      "metadata": {
        "id": "view-in-github",
        "colab_type": "text"
      },
      "source": [
        "<a href=\"https://colab.research.google.com/github/NabilaAgha/NabilaAgha/blob/main/AI_361_Assignment_1.ipynb\" target=\"_parent\"><img src=\"https://colab.research.google.com/assets/colab-badge.svg\" alt=\"Open In Colab\"/></a>"
      ]
    },
    {
      "cell_type": "code",
      "execution_count": null,
      "metadata": {
        "id": "HOKVXoMz9v2Y"
      },
      "outputs": [],
      "source": [
        "# Import libraries\n",
        "import cv2\n",
        "import numpy as np"
      ]
    },
    {
      "cell_type": "code",
      "source": [
        "# Ask the user to enter the image path\n",
        "image_path = input(\"Enter the path to the image: \")"
      ],
      "metadata": {
        "colab": {
          "base_uri": "https://localhost:8080/"
        },
        "id": "5G3_8cu_S1d3",
        "outputId": "45ab444e-f965-4972-925f-4b80ec6a2c16"
      },
      "execution_count": null,
      "outputs": [
        {
          "name": "stdout",
          "output_type": "stream",
          "text": [
            "Enter the path to the image: /content/catcute.png\n"
          ]
        }
      ]
    },
    {
      "cell_type": "code",
      "source": [
        "# Load the image\n",
        "image = cv2.imread(image_path)"
      ],
      "metadata": {
        "id": "iIE-NDECTOJv"
      },
      "execution_count": null,
      "outputs": []
    },
    {
      "cell_type": "code",
      "source": [
        "# Check if the image is colored and convert it to grayscale if needed\n",
        "if len(image.shape) == 3:\n",
        "    gray_image = cv2.cvtColor(image, cv2.COLOR_BGR2GRAY)\n",
        "else:\n",
        "    gray_image = image.copy()"
      ],
      "metadata": {
        "id": "O5vgbJZiTUKB"
      },
      "execution_count": null,
      "outputs": []
    },
    {
      "cell_type": "code",
      "source": [
        "# Ask the user if they want to zoom or rotate\n",
        "transformation = input(\"Choose a transformation (zoom/rotation): \")\n",
        "\n",
        "if transformation == \"zoom\":\n",
        "    # Prompt the user for a zoom factor\n",
        "    zoom_factor = float(input(\"Enter the zoom factor: \"))\n",
        "\n",
        "    # Resize the image using zoom factor\n",
        "    zoomed_image = cv2.resize(gray_image, None, fx=zoom_factor, fy=zoom_factor, interpolation=cv2.INTER_LINEAR)\n",
        "\n",
        "    # Apply Bilinear Interpolation Implementation\n",
        "    # Determine the size of the original and transformed images\n",
        "    height, width = gray_image.shape[:2]\n",
        "    zoomed_height, zoomed_width = zoomed_image.shape[:2]\n",
        "\n",
        "    # Compute the scaling factors for x and y coordinates\n",
        "    scale_x = width / zoomed_width\n",
        "    scale_y = height / zoomed_height\n",
        "\n",
        "    # Create an empty array for the transformed image\n",
        "    interpolated_image = np.zeros_like(gray_image)\n",
        "\n",
        "    # Iterate over each pixel in the transformed image\n",
        "    for y in range(height):\n",
        "        for x in range(width):\n",
        "            # Find the corresponding coordinates in the transformed image\n",
        "            x_prime = x / scale_x\n",
        "            y_prime = y / scale_y\n",
        "\n",
        "            # Determine the surrounding pixels in the transformed image\n",
        "            x1 = int(x_prime)\n",
        "            x2 = min(x1 + 1, zoomed_width - 1)\n",
        "            y1 = int(y_prime)\n",
        "            y2 = min(y1 + 1, zoomed_height - 1)\n",
        "\n",
        "            # Compute the interpolation weights\n",
        "            dx = x_prime - x1\n",
        "            dy = y_prime - y1\n",
        "\n",
        "            # Compute the interpolated value using bilinear interpolation\n",
        "            interpolated_value = (1 - dx) * (1 - dy) * zoomed_image[y1, x1] + \\\n",
        "                                 dx * (1 - dy) * zoomed_image[y1, x2] + \\\n",
        "                                 (1 - dx) * dy * zoomed_image[y2, x1] + \\\n",
        "                                 dx * dy * zoomed_image[y2, x2]\n",
        "\n",
        "            # Assign the interpolated value to the corresponding pixel in the output image\n",
        "            interpolated_image[y, x] = interpolated_value\n",
        "\n",
        "            # Save the image with Bilinear Interpolation\n",
        "    cv2.imwrite(\"zoomed_image_bilinear.jpg\", interpolated_image)\n",
        "    print(\"Image saved with Bilinear Interpolation.\")\n",
        "\n",
        "    # Apply Bicubic Interpolation\n",
        "    # Resize the image using bicubic interpolation\n",
        "    bicubic_image = cv2.resize(gray_image, None, fx=zoom_factor, fy=zoom_factor, interpolation=cv2.INTER_CUBIC)\n",
        "\n",
        "    # Save the image with Bicubic Interpolation\n",
        "    cv2.imwrite(\"zoomed_image_bicubic.jpg\", bicubic_image)\n",
        "    print(\"Image saved with Bicubic Interpolation.\")\n",
        "\n",
        "elif transformation == \"rotation\":\n",
        "    # Prompt the user for an angle of rotation in degrees\n",
        "    angle = float(input(\"Enter the angle of rotation (in degrees): \"))\n",
        "\n",
        "     # Perform the rotation\n",
        "    rows, cols = gray_image.shape[:2]\n",
        "    M = cv2.getRotationMatrix2D((cols / 2, rows / 2), angle, 1)\n",
        "    rotated_image = cv2.warpAffine(gray_image, M, (cols, rows), flags=cv2.INTER_LINEAR)\n",
        "\n",
        "    # Save the rotated image with Bilinear Interpolation\n",
        "    cv2.imwrite(\"rotated_image_bilinear.jpg\", rotated_image)\n",
        "    print(\"Image saved with Bilinear Interpolation.\")\n",
        "\n",
        "    # Save the rotated image with Bicubic Interpolation\n",
        "    rotated_image_bicubic = cv2.warpAffine(gray_image, M, (cols, rows), flags=cv2.INTER_CUBIC)\n",
        "    cv2.imwrite(\"rotated_image_bicubic.jpg\", rotated_image_bicubic)\n",
        "    print(\"Image saved with Bicubic Interpolation.\")\n",
        "\n",
        "else:\n",
        "    print(\"Invalid transformation choice.\")"
      ],
      "metadata": {
        "colab": {
          "base_uri": "https://localhost:8080/"
        },
        "id": "PsBVN1rjTcca",
        "outputId": "71c54041-c15c-4563-9ffb-738df0b41570"
      },
      "execution_count": null,
      "outputs": [
        {
          "output_type": "stream",
          "name": "stdout",
          "text": [
            "Choose a transformation (zoom/rotation): rotation\n",
            "Enter the angle of rotation (in degrees): 90\n",
            "Image saved with Bilinear Interpolation.\n",
            "Image saved with Bicubic Interpolation.\n"
          ]
        }
      ]
    }
  ]
}